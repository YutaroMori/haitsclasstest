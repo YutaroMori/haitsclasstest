{
 "cells": [
  {
   "cell_type": "markdown",
   "metadata": {},
   "source": [
    "# 小テスト(全2問)\n",
    "## 第1問\n",
    "日本円を各国の通貨に換算する**クラス「YenToCurrency」**を作成してください。\n",
    "\n",
    "条件\n",
    "\n",
    "1. 換算するのはドル(doll),ユーロ(euro),元(yuen),ウォン(won)の4つの通貨です。\n",
    "2. 1ドル=100円　1ユーロ=120円 1元=15円 1ウォン=0.1円で換算してください。\n",
    "3. クラスの引数に日本円を入力して、その値を各通貨に換算できるようにします。\n",
    "\n",
    "例\n",
    "\n",
    "exchange = YenToCurrency(1200)\n",
    "\n",
    "exchange.doll()\n",
    "\n",
    "と入力すると<font color=\"Red\">**\"1200円は12.0ドルです。\"**</font>と表示されるようにしてください。"
   ]
  },
  {
   "cell_type": "code",
   "execution_count": null,
   "metadata": {
    "collapsed": true
   },
   "outputs": [],
   "source": [
    "# 穴埋めするような形でコードを記述してください。\n",
    "class YenToCurrency():\n",
    "    def __init__(self,yen):\n",
    "        #ここを埋めてください。\n",
    "        \n",
    "    def doll(self):\n",
    "        #ここを埋めてください。\n",
    "        \n",
    "    def euro(self):\n",
    "        #ここを埋めてください。\n",
    "    \n",
    "    def yuen(self):\n",
    "        #ここを埋めてください。\n",
    "    \n",
    "    def won(self):\n",
    "        #ここを埋めてください。\n",
    "\n",
    "exchange = YenToCurrency(1200)\n",
    "exchange.doll()"
   ]
  },
  {
   "cell_type": "markdown",
   "metadata": {},
   "source": [
    "## 第2問\n",
    "### 1) pandas.DataFrameを用いて、以下の表を作成してください。\n",
    "\n",
    "<img src=\"https://s3-ap-northeast-1.amazonaws.com/ai-std/hait1.png\" width=30%>"
   ]
  },
  {
   "cell_type": "code",
   "execution_count": null,
   "metadata": {
    "collapsed": true
   },
   "outputs": [],
   "source": [
    "import pandas as pd\n",
    "from pandas import DataFrame\n",
    "\n",
    "#()の中を記述してください。\n",
    "data = pd.DataFrame()"
   ]
  },
  {
   "cell_type": "markdown",
   "metadata": {},
   "source": [
    "### 2) 生まれた年が**1995年よりも前の人だけ**を表から取り出してください。"
   ]
  },
  {
   "cell_type": "code",
   "execution_count": null,
   "metadata": {
    "collapsed": false
   },
   "outputs": [],
   "source": [
    "#[]の中を埋めてください。\n",
    "data2 = data[]\n",
    "data2"
   ]
  },
  {
   "cell_type": "markdown",
   "metadata": {},
   "source": [
    "### 3) 横軸を身長に縦軸を体重にとった、以下のような散布図を作成してください。なおその際男女でプロットする点の色を変えて表示してください。\n",
    "\n",
    "<img src=\"https://s3-ap-northeast-1.amazonaws.com/ai-std/hait2.png\" width=60%>"
   ]
  },
  {
   "cell_type": "code",
   "execution_count": null,
   "metadata": {
    "collapsed": true
   },
   "outputs": [],
   "source": [
    "import matplotlib.pyplot as plt\n",
    "% matplotlib inline\n",
    "\n",
    "#男子だけのデータを取り出します。\n",
    "data_male = data[]\n",
    "\n",
    "#男子の身長データ,体重データを取り出します。[]の中を記述してください。\n",
    "male_height = data_male[]\n",
    "male_weight = data_male[]\n",
    "\n",
    "#女子だけのデータを取り出します。\n",
    "data_female = data[]\n",
    "\n",
    "#女子の身長データと体重データを取り出します。[]の中を記述してください。\n",
    "female_height = data_female[]\n",
    "female_weight = data_female[]\n",
    "\n",
    "#取り出したデータをプロットしてください。(点の色と形状はなんでもいいですが、ラベルの名前は'Male','Female'にしてください。)\n",
    "\n",
    "plt.~~  # 男子のデータの散布図を､ラベルを指定してプロットしてください。なお縦軸が身長で横軸が体重です。plt.~~の中の~~の部分を記述してください。\n",
    "plt.~~  # 女子のデータの散布図を､ラベルを指定してプロットしてください。なお縦軸が身長で横軸が体重です。plt.~~の中の~~の部分を記述してください。\n",
    "plt.~~  #グラフのタイトルを表示させてください。(なんでもいいです。)。 plt.~~の中の~~の部分を記述してください。\n",
    "plt.~~ # x軸のラベルを表示させてください。(ラベルは'height'にしてください。) plt.~~の中の~~の部分を記述してください。\n",
    "plt.~~ # y軸のラベルを表示させてください。(ラベルは'weight'にしてください。) plt.~~の中の~~の部分を記述してください。\n",
    "\n",
    "plt.legend(loc='lower right')   #凡例を表示\n",
    "plt.show()"
   ]
  }
 ],
 "metadata": {
  "kernelspec": {
   "display_name": "Python 3",
   "language": "python",
   "name": "python3"
  },
  "language_info": {
   "codemirror_mode": {
    "name": "ipython",
    "version": 3
   },
   "file_extension": ".py",
   "mimetype": "text/x-python",
   "name": "python",
   "nbconvert_exporter": "python",
   "pygments_lexer": "ipython3",
   "version": "3.6.0"
  }
 },
 "nbformat": 4,
 "nbformat_minor": 2
}
